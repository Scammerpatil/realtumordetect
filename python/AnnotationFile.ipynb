{
 "cells": [
  {
   "cell_type": "code",
   "execution_count": 1,
   "id": "d2b36fae",
   "metadata": {},
   "outputs": [],
   "source": [
    "import os\n",
    "import json\n",
    "import cv2\n",
    "import numpy as np\n",
    "from tqdm import tqdm"
   ]
  },
  {
   "cell_type": "code",
   "execution_count": 2,
   "id": "11aa9846",
   "metadata": {},
   "outputs": [],
   "source": [
    "DATASET_PATH = \"dataset\"\n",
    "OUTPUT_JSON = \"annotations.json\"\n",
    "\n",
    "CATEGORIES = [\n",
    "    {\"id\": 1, \"name\": \"tumor\"},\n",
    "    {\"id\": 2, \"name\": \"deepfake\"}\n",
    "]\n",
    "\n",
    "coco_data = {\"images\": [], \"annotations\": [], \"categories\": CATEGORIES}\n",
    "\n",
    "image_id = 0\n",
    "annotation_id = 0"
   ]
  },
  {
   "cell_type": "code",
   "execution_count": 3,
   "id": "4c846b6f",
   "metadata": {},
   "outputs": [
    {
     "name": "stderr",
     "output_type": "stream",
     "text": [
      "Processing real_tumor: 100%|█████████████████████████████████████████████████████████| 155/155 [00:03<00:00, 41.68it/s]\n",
      "Processing real_no_tumor: 100%|████████████████████████████████████████████████████████| 98/98 [00:02<00:00, 46.05it/s]\n",
      "Processing deepfake_tumor: 100%|█████████████████████████████████████████████████████| 500/500 [00:14<00:00, 33.34it/s]\n",
      "Processing deepfake_no_tumor: 100%|██████████████████████████████████████████████████| 500/500 [00:14<00:00, 34.47it/s]\n"
     ]
    },
    {
     "name": "stdout",
     "output_type": "stream",
     "text": [
      "✅ Annotations saved to annotations.json\n"
     ]
    }
   ],
   "source": [
    "def create_full_mask(width, height):\n",
    "    \"\"\"Create a full-image mask for deepfake images.\"\"\"\n",
    "    return [[0, 0, width, 0, width, height, 0, height]]\n",
    "\n",
    "def detect_tumor_mask(image_path):\n",
    "    \"\"\"Auto-detect bright tumor regions (basic thresholding).\"\"\"\n",
    "    image = cv2.imread(image_path, cv2.IMREAD_GRAYSCALE)\n",
    "    _, mask = cv2.threshold(image, 150, 255, cv2.THRESH_BINARY) \n",
    "\n",
    "    contours, _ = cv2.findContours(mask, cv2.RETR_EXTERNAL, cv2.CHAIN_APPROX_SIMPLE)\n",
    "    polygons = []\n",
    "    \n",
    "    for cnt in contours:\n",
    "        if cv2.contourArea(cnt) > 500:\n",
    "            polygon = cnt.flatten().tolist()\n",
    "            polygons.append(polygon)\n",
    "    \n",
    "    return polygons if polygons else None \n",
    "\n",
    "for category in [\"real_tumor\", \"real_no_tumor\", \"deepfake_tumor\", \"deepfake_no_tumor\"]:\n",
    "    folder_path = os.path.join(DATASET_PATH, category)\n",
    "\n",
    "    for filename in tqdm(os.listdir(folder_path), desc=f\"Processing {category}\"):\n",
    "        if filename.endswith((\".jpg\", \".png\")):\n",
    "            image_path = os.path.join(folder_path, filename)\n",
    "            image = cv2.imread(image_path)\n",
    "            height, width = image.shape[:2]\n",
    "\n",
    "            # Add image info\n",
    "            coco_data[\"images\"].append({\n",
    "                \"id\": image_id,\n",
    "                \"file_name\": filename,\n",
    "                \"width\": width,\n",
    "                \"height\": height\n",
    "            })\n",
    "\n",
    "            # Handle annotation logic\n",
    "            if category == \"real_tumor\":\n",
    "                masks = detect_tumor_mask(image_path)\n",
    "                if masks:\n",
    "                    for mask in masks:\n",
    "                        coco_data[\"annotations\"].append({\n",
    "                            \"id\": annotation_id,\n",
    "                            \"image_id\": image_id,\n",
    "                            \"category_id\": 1,  # Tumor\n",
    "                            \"segmentation\": [mask],\n",
    "                            \"bbox\": [min(mask[::2]), min(mask[1::2]), max(mask[::2]) - min(mask[::2]), max(mask[1::2]) - min(mask[1::2])],\n",
    "                            \"iscrowd\": 0\n",
    "                        })\n",
    "                        annotation_id += 1\n",
    "\n",
    "            elif category == \"deepfake_tumor\":\n",
    "                coco_data[\"annotations\"].append({\n",
    "                    \"id\": annotation_id,\n",
    "                    \"image_id\": image_id,\n",
    "                    \"category_id\": 2,  # Deepfake\n",
    "                    \"segmentation\": create_full_mask(width, height),\n",
    "                    \"bbox\": [0, 0, width, height],\n",
    "                    \"iscrowd\": 0\n",
    "                })\n",
    "                annotation_id += 1\n",
    "\n",
    "            elif category == \"deepfake_no_tumor\":\n",
    "                coco_data[\"annotations\"].append({\n",
    "                    \"id\": annotation_id,\n",
    "                    \"image_id\": image_id,\n",
    "                    \"category_id\": 2,  # Deepfake\n",
    "                    \"segmentation\": create_full_mask(width, height),\n",
    "                    \"bbox\": [0, 0, width, height],\n",
    "                    \"iscrowd\": 0\n",
    "                })\n",
    "                annotation_id += 1\n",
    "\n",
    "            image_id += 1\n",
    "\n",
    "# Save annotations\n",
    "with open(OUTPUT_JSON, \"w\") as f:\n",
    "    json.dump(coco_data, f, indent=4)\n",
    "\n",
    "print(f\"✅ Annotations saved to {OUTPUT_JSON}\")"
   ]
  }
 ],
 "metadata": {
  "kernelspec": {
   "display_name": "Python 3 (ipykernel)",
   "language": "python",
   "name": "python3"
  },
  "language_info": {
   "codemirror_mode": {
    "name": "ipython",
    "version": 3
   },
   "file_extension": ".py",
   "mimetype": "text/x-python",
   "name": "python",
   "nbconvert_exporter": "python",
   "pygments_lexer": "ipython3",
   "version": "3.7.9"
  }
 },
 "nbformat": 4,
 "nbformat_minor": 5
}
